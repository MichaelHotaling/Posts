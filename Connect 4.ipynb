{
 "cells": [
  {
   "cell_type": "code",
   "execution_count": 1,
   "metadata": {},
   "outputs": [],
   "source": [
    "import numpy as np\n",
    "import seaborn as sns\n",
    "import matplotlib.pyplot as plt\n",
    "from IPython.display import clear_output"
   ]
  },
  {
   "cell_type": "code",
   "execution_count": 2,
   "metadata": {},
   "outputs": [],
   "source": [
    "def move(grid, column, player = \"X\"):\n",
    "    for i in range(len(grid[column])):\n",
    "        if str(grid[column][i]) != \" \":\n",
    "            continue\n",
    "        \n",
    "        grid[column][i] = player\n",
    "        break\n",
    "        \n",
    "    return grid"
   ]
  },
  {
   "cell_type": "code",
   "execution_count": 3,
   "metadata": {},
   "outputs": [],
   "source": [
    "def is_win(board, columns = 7, rows = 6):\n",
    "    # Check horizontal locations for win\n",
    "    for column in range(columns):\n",
    "        for row in range(rows):\n",
    "            try:\n",
    "                if board[row][column] == board[row][column+1] == board[row][column+2] == board[row][column+3] in ['X','O']:\n",
    "                    return True\n",
    "                elif board[row][column] == board[row+1][column] == board[row+2][column] == board[row+3][column] in ['X','O']:\n",
    "                    return True\n",
    "                elif board[row][column] == board[row+1][column+1] == board[row+2][column+2] == board[row+3][column+3] in ['X','O']:\n",
    "                    return True\n",
    "                elif board[row][column] == board[row-1][column+1] == board[row-2][column+2] == board[row-3][column+3] in ['X','O']:\n",
    "                    return True\n",
    "            except IndexError:\n",
    "                pass\n",
    "    return False"
   ]
  },
  {
   "cell_type": "code",
   "execution_count": 4,
   "metadata": {},
   "outputs": [],
   "source": [
    "def show_board(grid, title):\n",
    "    grid2 = np.where(grid == \" \", 0, grid)\n",
    "    grid2 = np.where(grid == \"X\", 1, grid2)\n",
    "    grid2 = np.where(grid == \"O\", -1, grid2)\n",
    "    sns.heatmap(np.rot90(grid2).astype(int), \n",
    "        cmap = \"bwr\", \n",
    "        linecolor='k',\n",
    "        linewidths=1, \n",
    "        vmax=1, \n",
    "        vmin=-1, cbar = False)\n",
    "    plt.title(f\"{title}\")\n",
    "    plt.show()"
   ]
  },
  {
   "cell_type": "code",
   "execution_count": 5,
   "metadata": {},
   "outputs": [],
   "source": [
    "def main():\n",
    "    grid = np.asarray([\" \"] * 7 * 6).reshape(7,6)\n",
    "    ind = 1\n",
    "    \n",
    "    while not is_win(grid):\n",
    "        player = \"OX\"[ind%2]\n",
    "        old_grid = grid.copy()\n",
    "        show_board(grid, f\"Player {player} Turn\")\n",
    "        while np.array_equal(grid, old_grid, equal_nan=False):\n",
    "            grid = move(grid, column = int(input(f\"Player {player} Turn: \")), player = player)\n",
    "        ind +=1\n",
    "        clear_output()\n",
    "    if is_win(grid):\n",
    "        show_board(grid, f\"Player {player} Wins\")"
   ]
  },
  {
   "cell_type": "code",
   "execution_count": 8,
   "metadata": {},
   "outputs": [
    {
     "data": {
      "image/png": "[encoded data removed]",
      "text/plain": [
       "<Figure size 432x288 with 1 Axes>"
      ]
     },
     "metadata": {
      "needs_background": "light"
     },
     "output_type": "display_data"
    }
   ],
   "source": [
    "if __name__ == '__main__':\n",
    "    main()"
   ]
  },
  {
   "cell_type": "markdown",
   "metadata": {},
   "source": [
    "# Generating random grids"
   ]
  },
  {
   "cell_type": "code",
   "execution_count": 9,
   "metadata": {},
   "outputs": [
    {
     "data": {
      "image/png": "[encoded data removed]",
      "text/plain": [
       "<Figure size 432x288 with 1 Axes>"
      ]
     },
     "metadata": {
      "needs_background": "light"
     },
     "output_type": "display_data"
    }
   ],
   "source": [
    "combs = []\n",
    "\n",
    "for i in range(6):\n",
    "    for j in range(7):\n",
    "        combs.append(j)\n",
    "        \n",
    "grid = np.asarray([\" \"] * 7 * 6).reshape(7,6)\n",
    "turn = 1\n",
    "player = \"OX\"\n",
    "x = True\n",
    "\n",
    "while True:\n",
    "    for i in combs:\n",
    "        for j in combs:\n",
    "            combs = sorted(combs)\n",
    "            random_select = np.random.randint(0,len(combs))\n",
    "            m = combs[random_select]\n",
    "            combs.remove(m)\n",
    "            if turn %2 == 1:\n",
    "                grid = move(grid, column = m, player = \"X\")\n",
    "            else:\n",
    "                grid = move(grid, column = m, player = \"O\")\n",
    "            \n",
    "            if is_win(grid):\n",
    "                break\n",
    "            turn += 1\n",
    "            \n",
    "        break\n",
    "    break\n",
    "grid2 = np.where(grid == \" \", 0, grid)\n",
    "grid2 = np.where(grid == \"X\", 1, grid2)\n",
    "grid2 = np.where(grid == \"O\", -1, grid2)\n",
    "sns.heatmap(np.rot90(grid2).astype(int), \n",
    "    cmap = \"bwr\", \n",
    "    linecolor='k',\n",
    "    linewidths=1, \n",
    "    vmax=1, \n",
    "    vmin=-1, cbar = False)\n",
    "plt.title(f\"Player {player[turn%2]} Wins\")\n",
    "plt.show()\n",
    "\n",
    "\n"
   ]
  },
  {
   "cell_type": "code",
   "execution_count": null,
   "metadata": {},
   "outputs": [],
   "source": []
  }
 ],
 "metadata": {
  "kernelspec": {
   "display_name": "Python 3",
   "language": "python",
   "name": "python3"
  },
  "language_info": {
   "codemirror_mode": {
    "name": "ipython",
    "version": 3
   },
   "file_extension": ".py",
   "mimetype": "text/x-python",
   "name": "python",
   "nbconvert_exporter": "python",
   "pygments_lexer": "ipython3",
   "version": "3.8.5"
  }
 },
 "nbformat": 4,
 "nbformat_minor": 4
}
