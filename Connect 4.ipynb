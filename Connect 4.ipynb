{
 "cells": [
  {
   "cell_type": "code",
   "execution_count": 1,
   "metadata": {},
   "outputs": [],
   "source": [
    "import numpy as np\n",
    "import seaborn as sns\n",
    "import matplotlib.pyplot as plt\n",
    "from IPython.display import clear_output"
   ]
  },
  {
   "cell_type": "code",
   "execution_count": 2,
   "metadata": {},
   "outputs": [],
   "source": [
    "def move(grid, column, player = \"X\"):\n",
    "    for i in range(len(grid[column])):\n",
    "        if str(grid[column][i]) != \" \":\n",
    "            continue\n",
    "        \n",
    "        grid[column][i] = player\n",
    "        break\n",
    "        \n",
    "    return grid"
   ]
  },
  {
   "cell_type": "code",
   "execution_count": 10,
   "metadata": {},
   "outputs": [],
   "source": [
    "def is_win(board, columns = 7, rows = 6):\n",
    "    # Check horizontal locations for win\n",
    "    for column in range(columns):\n",
    "        for row in range(rows):\n",
    "            try:\n",
    "                if board[row][column] == board[row][column+1] == board[row][column+2] == board[row][column+3] in ['X','O']:\n",
    "                    return True\n",
    "                elif board[row][column] == board[row+1][column] == board[row+2][column] == board[row+3][column] in ['X','O']:\n",
    "                    return True\n",
    "                elif board[row][column] == board[row+1][column+1] == board[row+2][column+2] == board[row+3][column+3] in ['X','O']:\n",
    "                    return True\n",
    "                elif board[row][column] == board[row-1][column+1] == board[row-2][column+2] == board[row-3][column+3] in ['X','O']:\n",
    "                    return True\n",
    "            except IndexError:\n",
    "                pass\n",
    "    return False"
   ]
  },
  {
   "cell_type": "code",
   "execution_count": 15,
   "metadata": {},
   "outputs": [],
   "source": [
    "def main():\n",
    "    grid = np.asarray([\" \"] * 7 * 6).reshape(7,6)\n",
    "    ind = 1\n",
    "    \n",
    "    while not is_win(grid):\n",
    "        \n",
    "        \n",
    "        grid2 = np.where(grid == \" \", 0, grid)\n",
    "        grid2 = np.where(grid == \"X\", 1, grid2)\n",
    "        grid2 = np.where(grid == \"O\", -1, grid2)\n",
    "        sns.heatmap(np.rot90(grid2).astype(int), \n",
    "            cmap = \"bwr\", \n",
    "            linecolor='k',\n",
    "            linewidths=1, \n",
    "            vmax=1, \n",
    "            vmin=-1, cbar = False)\n",
    "        \n",
    "        plt.show()\n",
    "        player = \"OX\"[ind%2]\n",
    "        old_grid = grid.copy()\n",
    "        while np.array_equal(grid, old_grid, equal_nan=False):\n",
    "            grid = move(grid, column = int(input(f\"Player {player} Turn: \")), player = player)\n",
    "        ind +=1\n",
    "        clear_output()\n",
    "    \n",
    "    grid2 = np.where(grid == \" \", 0, grid)\n",
    "    grid2 = np.where(grid == \"X\", 1, grid2)\n",
    "    grid2 = np.where(grid == \"O\", -1, grid2)\n",
    "    sns.heatmap(np.rot90(grid2).astype(int), \n",
    "        cmap = \"bwr\", \n",
    "        linecolor='k',\n",
    "        linewidths=1, \n",
    "        vmax=1, \n",
    "        vmin=-1, cbar = False)"
   ]
  },
  {
   "cell_type": "code",
   "execution_count": 16,
   "metadata": {},
   "outputs": [
    {
     "data": {
      "image/png": "[encoded data removed]",
      "text/plain": [
       "<Figure size 432x288 with 1 Axes>"
      ]
     },
     "metadata": {
      "needs_background": "light"
     },
     "output_type": "display_data"
    }
   ],
   "source": [
    "if __name__ == '__main__':\n",
    "    main()"
   ]
  }
 ],
 "metadata": {
  "kernelspec": {
   "display_name": "Python 3",
   "language": "python",
   "name": "python3"
  },
  "language_info": {
   "codemirror_mode": {
    "name": "ipython",
    "version": 3
   },
   "file_extension": ".py",
   "mimetype": "text/x-python",
   "name": "python",
   "nbconvert_exporter": "python",
   "pygments_lexer": "ipython3",
   "version": "3.8.5"
  }
 },
 "nbformat": 4,
 "nbformat_minor": 4
}
